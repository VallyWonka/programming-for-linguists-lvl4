{
 "cells": [
  {
   "cell_type": "markdown",
   "metadata": {},
   "source": [
    "# Графы"
   ]
  },
  {
   "cell_type": "markdown",
   "metadata": {},
   "source": [
    "Задание графа через библиотеку networkx"
   ]
  },
  {
   "cell_type": "code",
   "execution_count": 1,
   "metadata": {},
   "outputs": [],
   "source": [
    "import networkx as nx\n",
    "import matplotlib.pyplot as plt\n",
    "\n",
    "G = nx.Graph(name=\"words\") \n",
    "G.add_node(1)\n",
    "G.add_nodes_from([2, 3, 4, 'a'])\n",
    "\n",
    "G.add_edge(1, 2)\n",
    "G.add_edges_from([(3, 2),(1, 3),(2, 4)])"
   ]
  },
  {
   "cell_type": "markdown",
   "metadata": {},
   "source": [
    "Получение информации о графе"
   ]
  },
  {
   "cell_type": "code",
   "execution_count": 2,
   "metadata": {},
   "outputs": [
    {
     "data": {
      "text/plain": [
       "NodeView((1, 2, 3, 4, 'a'))"
      ]
     },
     "execution_count": 2,
     "metadata": {},
     "output_type": "execute_result"
    }
   ],
   "source": [
    "G.nodes"
   ]
  },
  {
   "cell_type": "code",
   "execution_count": 3,
   "metadata": {},
   "outputs": [
    {
     "data": {
      "text/plain": [
       "EdgeView([(1, 2), (1, 3), (2, 3), (2, 4)])"
      ]
     },
     "execution_count": 3,
     "metadata": {},
     "output_type": "execute_result"
    }
   ],
   "source": [
    "G.edges"
   ]
  },
  {
   "cell_type": "markdown",
   "metadata": {},
   "source": [
    "Подсчет количества компонент связности"
   ]
  },
  {
   "cell_type": "code",
   "execution_count": 4,
   "metadata": {},
   "outputs": [
    {
     "name": "stdout",
     "output_type": "stream",
     "text": [
      "{1, 2, 3, 4}\n",
      "{'a'}\n"
     ]
    }
   ],
   "source": [
    "for component in nx.connected_components(G):\n",
    "    print(component)"
   ]
  },
  {
   "cell_type": "markdown",
   "metadata": {},
   "source": [
    "Получение степени вершин"
   ]
  },
  {
   "cell_type": "code",
   "execution_count": 5,
   "metadata": {},
   "outputs": [
    {
     "data": {
      "text/plain": [
       "2"
      ]
     },
     "execution_count": 5,
     "metadata": {},
     "output_type": "execute_result"
    }
   ],
   "source": [
    "G.degree(1)"
   ]
  },
  {
   "cell_type": "code",
   "execution_count": 6,
   "metadata": {
    "scrolled": true
   },
   "outputs": [
    {
     "data": {
      "text/plain": [
       "DegreeView({1: 2, 2: 3, 3: 2, 4: 1, 'a': 0})"
      ]
     },
     "execution_count": 6,
     "metadata": {},
     "output_type": "execute_result"
    }
   ],
   "source": [
    "nx.degree(G)"
   ]
  },
  {
   "cell_type": "markdown",
   "metadata": {},
   "source": [
    "0. Расположить вершины графа в порядке убывания их степеней"
   ]
  },
  {
   "cell_type": "code",
   "execution_count": 7,
   "metadata": {},
   "outputs": [
    {
     "data": {
      "text/plain": [
       "[(2, 3), (1, 2), (3, 2), (4, 1), ('a', 0)]"
      ]
     },
     "execution_count": 7,
     "metadata": {},
     "output_type": "execute_result"
    }
   ],
   "source": [
    "sorted(G.degree, key=lambda x: x[1], reverse=True)"
   ]
  },
  {
   "cell_type": "markdown",
   "metadata": {},
   "source": [
    "Визуализация графа"
   ]
  },
  {
   "cell_type": "code",
   "execution_count": 8,
   "metadata": {},
   "outputs": [
    {
     "data": {
      "image/png": "[encoded data removed]",
      "text/plain": [
       "<Figure size 432x288 with 1 Axes>"
      ]
     },
     "metadata": {},
     "output_type": "display_data"
    }
   ],
   "source": [
    "pos=nx.circular_layout(G)\n",
    "\n",
    "nx.draw_networkx_nodes(G, pos, node_color=['red', 'green', 'orange', 'blue', 'yellow'])\n",
    "nx.draw_networkx_labels(G, pos, font_size=13, font_color='black')\n",
    "nx.draw_networkx_edges(G, pos)\n",
    "\n",
    "plt.axis('off')\n",
    "plt.show()"
   ]
  },
  {
   "cell_type": "markdown",
   "metadata": {},
   "source": [
    "### Лестница слов"
   ]
  },
  {
   "cell_type": "markdown",
   "metadata": {},
   "source": [
    "<img src=\"wordladder-chameleon.png\" width=\"400\">"
   ]
  },
  {
   "cell_type": "markdown",
   "metadata": {},
   "source": [
    "1. Построить граф, вершинами которого являются слова из файла https://www-cs-faculty.stanford.edu/~knuth/sgb-words.txt. Ребро проводится между словами, которые отличаются одной буквой (motel - hotel)."
   ]
  },
  {
   "cell_type": "code",
   "execution_count": 9,
   "metadata": {},
   "outputs": [],
   "source": [
    "words = open(\"sgb-words.txt\", \"r\").read().split(\"\\n\")\n",
    "words.remove(\"\")"
   ]
  },
  {
   "cell_type": "code",
   "execution_count": 10,
   "metadata": {},
   "outputs": [
    {
     "data": {
      "text/plain": [
       "5757"
      ]
     },
     "execution_count": 10,
     "metadata": {},
     "output_type": "execute_result"
    }
   ],
   "source": [
    "len(words)"
   ]
  },
  {
   "cell_type": "code",
   "execution_count": 11,
   "metadata": {},
   "outputs": [
    {
     "name": "stdout",
     "output_type": "stream",
     "text": [
      "The graph has 5757 nodes with 14135 edges\n",
      "853 connected components\n",
      "Wall time: 9.09 s\n"
     ]
    }
   ],
   "source": [
    "%%time\n",
    "\n",
    "import networkx as nx\n",
    "\n",
    "def words_graph(words_lst):\n",
    "    edges = []\n",
    "    for i, left_word in enumerate(words_lst[:-1]):\n",
    "        for right_word in words_lst[i + 1:]:\n",
    "            difference = 0\n",
    "            for left_letter, right_letter in zip(list(left_word), list(right_word)):\n",
    "                if left_letter != right_letter:\n",
    "                    difference += 1\n",
    "                if difference > 1:\n",
    "                    break\n",
    "            else:\n",
    "                edges.append((left_word, right_word))\n",
    "    G = nx.Graph(name=\"words\")\n",
    "    G.add_nodes_from(words_lst)\n",
    "    G.add_edges_from(edges)\n",
    "    return G\n",
    "\n",
    "G = words_graph(words)\n",
    "print(f\"The graph has {nx.number_of_nodes(G)} nodes with {nx.number_of_edges(G)} edges\")\n",
    "print(f\"{nx.number_connected_components(G)} connected components\")"
   ]
  },
  {
   "cell_type": "markdown",
   "metadata": {},
   "source": [
    "2. Написать алгоритм нахождения кратчайшего пути от одного слова к другому. Вывести цепочку слов. <br>\n",
    "Использовать алгоритм нахождения кратчайшего пути из библиотеки networkx.<br>\n",
    "(*) Использовать алгоритм нахождения кратчайшего пути, написанный самостоятельно"
   ]
  },
  {
   "cell_type": "code",
   "execution_count": 12,
   "metadata": {},
   "outputs": [],
   "source": [
    "def shortest_path(graph, source, target):\n",
    "    try:\n",
    "        path = nx.algorithms.shortest_paths.generic.shortest_path(G, source, target)\n",
    "    except:\n",
    "        print(f\"No path from {source} to {target} found.\")\n",
    "    else:\n",
    "        print(f\"The shortest path from {source} to {target} is:\")\n",
    "        print(\"\\n\".join(path))"
   ]
  },
  {
   "cell_type": "code",
   "execution_count": 13,
   "metadata": {},
   "outputs": [
    {
     "name": "stdout",
     "output_type": "stream",
     "text": [
      "The shortest path from chaos to order is:\n",
      "chaos\n",
      "chaps\n",
      "chops\n",
      "coops\n",
      "corps\n",
      "cores\n",
      "codes\n",
      "coder\n",
      "cider\n",
      "eider\n",
      "elder\n",
      "older\n",
      "order\n"
     ]
    }
   ],
   "source": [
    "shortest_path(G, \"chaos\", \"order\")"
   ]
  },
  {
   "cell_type": "code",
   "execution_count": 14,
   "metadata": {},
   "outputs": [
    {
     "name": "stdout",
     "output_type": "stream",
     "text": [
      "The shortest path from nodes to graph is:\n",
      "nodes\n",
      "lodes\n",
      "lores\n",
      "lords\n",
      "loads\n",
      "goads\n",
      "grads\n",
      "grade\n",
      "grape\n",
      "graph\n"
     ]
    }
   ],
   "source": [
    "shortest_path(G, \"nodes\", \"graph\")"
   ]
  },
  {
   "cell_type": "code",
   "execution_count": 15,
   "metadata": {},
   "outputs": [
    {
     "name": "stdout",
     "output_type": "stream",
     "text": [
      "No path from pound to marks found.\n"
     ]
    }
   ],
   "source": [
    "shortest_path(G, \"pound\", \"marks\")"
   ]
  }
 ],
 "metadata": {
  "kernelspec": {
   "display_name": "Python 3",
   "language": "python",
   "name": "python3"
  },
  "language_info": {
   "codemirror_mode": {
    "name": "ipython",
    "version": 3
   },
   "file_extension": ".py",
   "mimetype": "text/x-python",
   "name": "python",
   "nbconvert_exporter": "python",
   "pygments_lexer": "ipython3",
   "version": "3.9.0"
  }
 },
 "nbformat": 4,
 "nbformat_minor": 4
}
