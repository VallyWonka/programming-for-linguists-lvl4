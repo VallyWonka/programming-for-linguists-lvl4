{
 "cells": [
  {
   "cell_type": "code",
   "execution_count": 1,
   "metadata": {},
   "outputs": [],
   "source": [
    "import time\n",
    "import pandas as pd\n",
    "from selenium import webdriver\n",
    "from selenium.webdriver.common.by import By"
   ]
  },
  {
   "cell_type": "code",
   "execution_count": 2,
   "metadata": {},
   "outputs": [],
   "source": [
    "cheesy = pd.DataFrame(columns=['title', 'description', 'time'])"
   ]
  },
  {
   "cell_type": "code",
   "execution_count": 3,
   "metadata": {},
   "outputs": [],
   "source": [
    "driver = webdriver.Chrome()\n",
    "\n",
    "driver.get('https://www.povarenok.ru/recipes/category/290/')"
   ]
  },
  {
   "cell_type": "code",
   "execution_count": 4,
   "metadata": {},
   "outputs": [],
   "source": [
    "def scrap_page(df):\n",
    "    title_elements = driver.find_elements(By.XPATH, '//article[@class=\"item-bl\"]/h2/a[1]')\n",
    "    description_elements = driver.find_elements(By.XPATH, '//article[@class=\"item-bl\"]/p')\n",
    "    time_elements = driver.find_elements(By.XPATH, '//article[@class=\"item-bl\"]/div[@class=\"article-footer\"]/span[@class=\"i-time\"]')\n",
    "    for i in range(len(title_elements)):\n",
    "        new_cheese = {'title': title_elements[i].text, \n",
    "                      'description': description_elements[i].text,\n",
    "                      'time': time_elements[i].text}\n",
    "        df = df.append(new_cheese, ignore_index=True)\n",
    "    return df"
   ]
  },
  {
   "cell_type": "code",
   "execution_count": 5,
   "metadata": {},
   "outputs": [
    {
     "name": "stdout",
     "output_type": "stream",
     "text": [
      "Finished\n"
     ]
    }
   ],
   "source": [
    "while True:\n",
    "    try:\n",
    "        cheesy = scrap_page(cheesy)\n",
    "        navigation_element = driver.find_elements(By.XPATH, '//div[@id=\"load_more_items\"]/input[@class=\"load_more_items_button\"]')\n",
    "        next_page = 'https://www.povarenok.ru' + navigation_element[0].get_attribute('data-url').removesuffix('?mode=load')\n",
    "        driver.get(next_page)\n",
    "    except:\n",
    "        print(\"Finished\")\n",
    "        driver.close()\n",
    "        break"
   ]
  },
  {
   "cell_type": "code",
   "execution_count": 6,
   "metadata": {},
   "outputs": [
    {
     "data": {
      "text/html": [
       "<div>\n",
       "<style scoped>\n",
       "    .dataframe tbody tr th:only-of-type {\n",
       "        vertical-align: middle;\n",
       "    }\n",
       "\n",
       "    .dataframe tbody tr th {\n",
       "        vertical-align: top;\n",
       "    }\n",
       "\n",
       "    .dataframe thead th {\n",
       "        text-align: right;\n",
       "    }\n",
       "</style>\n",
       "<table border=\"1\" class=\"dataframe\">\n",
       "  <thead>\n",
       "    <tr style=\"text-align: right;\">\n",
       "      <th></th>\n",
       "      <th>title</th>\n",
       "      <th>description</th>\n",
       "      <th>time</th>\n",
       "    </tr>\n",
       "  </thead>\n",
       "  <tbody>\n",
       "    <tr>\n",
       "      <th>0</th>\n",
       "      <td>Домашний сыр \"Панир\"</td>\n",
       "      <td>Великолепный сыр собственными руками. Наверное...</td>\n",
       "      <td>30 января 2009 года</td>\n",
       "    </tr>\n",
       "    <tr>\n",
       "      <th>1</th>\n",
       "      <td>Сыр \"Сливочный\" от бабы Шуры</td>\n",
       "      <td>Этот очень вкусный домашний сыр, который готов...</td>\n",
       "      <td>22 сентября 2009 года</td>\n",
       "    </tr>\n",
       "    <tr>\n",
       "      <th>2</th>\n",
       "      <td>Адыгейский сыр без яиц и уксуса</td>\n",
       "      <td>Автор Валентина, форум SAY-7. Сыр готовится оч...</td>\n",
       "      <td>8 июля 2009 года</td>\n",
       "    </tr>\n",
       "    <tr>\n",
       "      <th>3</th>\n",
       "      <td>Домашняя брынза</td>\n",
       "      <td>Думаю, мой рецепт понравится тем, кто часто го...</td>\n",
       "      <td>1 октября 2009 года</td>\n",
       "    </tr>\n",
       "    <tr>\n",
       "      <th>4</th>\n",
       "      <td>Сыр \"Моцарелла\"</td>\n",
       "      <td>Я очень люблю Моцареллу, особенно шарики помел...</td>\n",
       "      <td>3 июня 2010 года</td>\n",
       "    </tr>\n",
       "    <tr>\n",
       "      <th>...</th>\n",
       "      <td>...</td>\n",
       "      <td>...</td>\n",
       "      <td>...</td>\n",
       "    </tr>\n",
       "    <tr>\n",
       "      <th>152</th>\n",
       "      <td>Творожный сыр по Дюкану</td>\n",
       "      <td>Творожный сыр по Дюкану Curd cheese by Dukan</td>\n",
       "      <td>3 апреля 2015 года</td>\n",
       "    </tr>\n",
       "    <tr>\n",
       "      <th>153</th>\n",
       "      <td>Домашняя брынза из коровьего молока</td>\n",
       "      <td>Брынза - один из вкуснейших сыров, которые с л...</td>\n",
       "      <td>18 сентября 2019 года</td>\n",
       "    </tr>\n",
       "    <tr>\n",
       "      <th>154</th>\n",
       "      <td>Сыр творожный \"Филадельфия\"</td>\n",
       "      <td>Творожный сыр, можно применять в приготовление...</td>\n",
       "      <td>24 февраля 2020 года</td>\n",
       "    </tr>\n",
       "    <tr>\n",
       "      <th>155</th>\n",
       "      <td>Сыр Качотта с фисташками</td>\n",
       "      <td>Качотта - это итальянский полумягкий столовый ...</td>\n",
       "      <td>4 января 2020 года</td>\n",
       "    </tr>\n",
       "    <tr>\n",
       "      <th>156</th>\n",
       "      <td>Сыр Тильзитер</td>\n",
       "      <td>Сыр Тильзитер - полутвердый сыр родом из Герма...</td>\n",
       "      <td>4 января 2020 года</td>\n",
       "    </tr>\n",
       "  </tbody>\n",
       "</table>\n",
       "<p>157 rows × 3 columns</p>\n",
       "</div>"
      ],
      "text/plain": [
       "                                   title  \\\n",
       "0                   Домашний сыр \"Панир\"   \n",
       "1           Сыр \"Сливочный\" от бабы Шуры   \n",
       "2        Адыгейский сыр без яиц и уксуса   \n",
       "3                        Домашняя брынза   \n",
       "4                        Сыр \"Моцарелла\"   \n",
       "..                                   ...   \n",
       "152              Творожный сыр по Дюкану   \n",
       "153  Домашняя брынза из коровьего молока   \n",
       "154          Сыр творожный \"Филадельфия\"   \n",
       "155             Сыр Качотта с фисташками   \n",
       "156                        Сыр Тильзитер   \n",
       "\n",
       "                                           description                   time  \n",
       "0    Великолепный сыр собственными руками. Наверное...    30 января 2009 года  \n",
       "1    Этот очень вкусный домашний сыр, который готов...  22 сентября 2009 года  \n",
       "2    Автор Валентина, форум SAY-7. Сыр готовится оч...       8 июля 2009 года  \n",
       "3    Думаю, мой рецепт понравится тем, кто часто го...    1 октября 2009 года  \n",
       "4    Я очень люблю Моцареллу, особенно шарики помел...       3 июня 2010 года  \n",
       "..                                                 ...                    ...  \n",
       "152       Творожный сыр по Дюкану Curd cheese by Dukan     3 апреля 2015 года  \n",
       "153  Брынза - один из вкуснейших сыров, которые с л...  18 сентября 2019 года  \n",
       "154  Творожный сыр, можно применять в приготовление...   24 февраля 2020 года  \n",
       "155  Качотта - это итальянский полумягкий столовый ...     4 января 2020 года  \n",
       "156  Сыр Тильзитер - полутвердый сыр родом из Герма...     4 января 2020 года  \n",
       "\n",
       "[157 rows x 3 columns]"
      ]
     },
     "execution_count": 6,
     "metadata": {},
     "output_type": "execute_result"
    }
   ],
   "source": [
    "cheesy"
   ]
  }
 ],
 "metadata": {
  "kernelspec": {
   "display_name": "Python 3",
   "language": "python",
   "name": "python3"
  },
  "language_info": {
   "codemirror_mode": {
    "name": "ipython",
    "version": 3
   },
   "file_extension": ".py",
   "mimetype": "text/x-python",
   "name": "python",
   "nbconvert_exporter": "python",
   "pygments_lexer": "ipython3",
   "version": "3.9.0"
  }
 },
 "nbformat": 4,
 "nbformat_minor": 4
}
