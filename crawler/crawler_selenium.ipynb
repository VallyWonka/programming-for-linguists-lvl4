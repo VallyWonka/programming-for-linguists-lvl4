{
 "cells": [
  {
   "cell_type": "markdown",
   "metadata": {},
   "source": [
    "## Crawler (selenium)"
   ]
  },
  {
   "cell_type": "markdown",
   "metadata": {},
   "source": [
    "https://towardsdatascience.com/web-scraping-using-selenium-python-8a60f4cf40ab"
   ]
  },
  {
   "cell_type": "markdown",
   "metadata": {},
   "source": [
    "1. Установить selenium"
   ]
  },
  {
   "cell_type": "code",
   "execution_count": 1,
   "metadata": {},
   "outputs": [
    {
     "name": "stdout",
     "output_type": "stream",
     "text": [
      "Requirement already satisfied: selenium in c:\\users\\lera\\appdata\\local\\programs\\python\\python39\\lib\\site-packages (4.0.0)\n",
      "Requirement already satisfied: trio-websocket~=0.9 in c:\\users\\lera\\appdata\\local\\programs\\python\\python39\\lib\\site-packages (from selenium) (0.9.2)\n",
      "Requirement already satisfied: urllib3[secure]~=1.26 in c:\\users\\lera\\appdata\\local\\programs\\python\\python39\\lib\\site-packages (from selenium) (1.26.1)\n",
      "Requirement already satisfied: trio~=0.17 in c:\\users\\lera\\appdata\\local\\programs\\python\\python39\\lib\\site-packages (from selenium) (0.19.0)\n",
      "Requirement already satisfied: sortedcontainers in c:\\users\\lera\\appdata\\local\\programs\\python\\python39\\lib\\site-packages (from trio~=0.17->selenium) (2.3.0)\n",
      "Requirement already satisfied: attrs>=19.2.0 in c:\\users\\lera\\appdata\\local\\programs\\python\\python39\\lib\\site-packages (from trio~=0.17->selenium) (20.3.0)\n",
      "Requirement already satisfied: idna in c:\\users\\lera\\appdata\\local\\programs\\python\\python39\\lib\\site-packages (from trio~=0.17->selenium) (2.10)\n",
      "Requirement already satisfied: async-generator>=1.9 in c:\\users\\lera\\appdata\\local\\programs\\python\\python39\\lib\\site-packages (from trio~=0.17->selenium) (1.10)\n",
      "Requirement already satisfied: sniffio in c:\\users\\lera\\appdata\\local\\programs\\python\\python39\\lib\\site-packages (from trio~=0.17->selenium) (1.2.0)\n",
      "Requirement already satisfied: cffi>=1.14 in c:\\users\\lera\\appdata\\local\\programs\\python\\python39\\lib\\site-packages (from trio~=0.17->selenium) (1.14.3)\n",
      "Requirement already satisfied: outcome in c:\\users\\lera\\appdata\\local\\programs\\python\\python39\\lib\\site-packages (from trio~=0.17->selenium) (1.1.0)\n",
      "Requirement already satisfied: wsproto>=0.14 in c:\\users\\lera\\appdata\\local\\programs\\python\\python39\\lib\\site-packages (from trio-websocket~=0.9->selenium) (1.0.0)\n",
      "Requirement already satisfied: certifi in c:\\users\\lera\\appdata\\local\\programs\\python\\python39\\lib\\site-packages (from urllib3[secure]~=1.26->selenium) (2020.11.8)\n",
      "Requirement already satisfied: pyOpenSSL>=0.14 in c:\\users\\lera\\appdata\\local\\programs\\python\\python39\\lib\\site-packages (from urllib3[secure]~=1.26->selenium) (19.1.0)\n",
      "Requirement already satisfied: cryptography>=1.3.4 in c:\\users\\lera\\appdata\\local\\programs\\python\\python39\\lib\\site-packages (from urllib3[secure]~=1.26->selenium) (3.2.1)\n",
      "Requirement already satisfied: pycparser in c:\\users\\lera\\appdata\\local\\programs\\python\\python39\\lib\\site-packages (from cffi>=1.14->trio~=0.17->selenium) (2.20)\n",
      "Requirement already satisfied: six>=1.4.1 in c:\\users\\lera\\appdata\\local\\programs\\python\\python39\\lib\\site-packages (from cryptography>=1.3.4->urllib3[secure]~=1.26->selenium) (1.15.0)\n",
      "Requirement already satisfied: h11<1,>=0.9.0 in c:\\users\\lera\\appdata\\local\\programs\\python\\python39\\lib\\site-packages (from wsproto>=0.14->trio-websocket~=0.9->selenium) (0.9.0)\n"
     ]
    }
   ],
   "source": [
    "!pip install selenium"
   ]
  },
  {
   "cell_type": "markdown",
   "metadata": {},
   "source": [
    "2. Скачать chromedriver: https://chromedriver.storage.googleapis.com/index.html?path=2.42/"
   ]
  },
  {
   "cell_type": "code",
   "execution_count": 2,
   "metadata": {},
   "outputs": [],
   "source": [
    "import pandas as pd\n",
    "from selenium import webdriver\n",
    "from selenium.webdriver.common.by import By"
   ]
  },
  {
   "cell_type": "code",
   "execution_count": 3,
   "metadata": {},
   "outputs": [],
   "source": [
    "df = pd.DataFrame(columns=['Username', 'Comment', 'Time'])"
   ]
  },
  {
   "cell_type": "markdown",
   "metadata": {},
   "source": [
    "3. Прописать путь до chromedriver. Выбрать страницу, с которой начнется сбор данных. <br>\n",
    "После запуска этой ячейки должен открыться Chrome c этой страницей"
   ]
  },
  {
   "cell_type": "code",
   "execution_count": 4,
   "metadata": {},
   "outputs": [],
   "source": [
    "driver = webdriver.Chrome()\n",
    "\n",
    "driver.get('https://forums.edmunds.com/discussion/10298/jeep/liberty/jeep-liberty-skyslider-roof/p1')"
   ]
  },
  {
   "cell_type": "markdown",
   "metadata": {},
   "source": [
    "4. Формируем путь до нужных элементов при помощи xpath и собираем их. <br>\n",
    "xpath: https://towardsdatascience.com/how-to-use-python-and-xpath-to-scrape-websites-99eaed73f1dd "
   ]
  },
  {
   "cell_type": "code",
   "execution_count": 5,
   "metadata": {},
   "outputs": [
    {
     "name": "stdout",
     "output_type": "stream",
     "text": [
      "50\n"
     ]
    },
    {
     "data": {
      "text/plain": [
       "'cmoa84'"
      ]
     },
     "execution_count": 5,
     "metadata": {},
     "output_type": "execute_result"
    }
   ],
   "source": [
    "username_elements = driver.find_elements(By.XPATH, '//div[@class=\"Comment\"]/div[@class=\"Item-Header CommentHeader\"]/div[@class=\"AuthorWrap\"]/span[@class=\"Author\"]/a[2]')\n",
    "print(len(username_elements))\n",
    "username_elements[0].text"
   ]
  },
  {
   "cell_type": "markdown",
   "metadata": {},
   "source": [
    "Как вытащить значение атрибута"
   ]
  },
  {
   "cell_type": "code",
   "execution_count": 6,
   "metadata": {},
   "outputs": [
    {
     "name": "stdout",
     "output_type": "stream",
     "text": [
      "50\n"
     ]
    },
    {
     "data": {
      "text/plain": [
       "'cmoa84'"
      ]
     },
     "execution_count": 6,
     "metadata": {},
     "output_type": "execute_result"
    }
   ],
   "source": [
    "username_elements_att = driver.find_elements(By.XPATH, '//div[@class=\"Comment\"]/div[@class=\"Item-Header CommentHeader\"]/div[@class=\"AuthorWrap\"]/span[@class=\"Author\"]/a[1]')\n",
    "print(len(username_elements_att))\n",
    "username_elements_att[0].get_attribute('title')"
   ]
  },
  {
   "cell_type": "code",
   "execution_count": 7,
   "metadata": {},
   "outputs": [
    {
     "name": "stdout",
     "output_type": "stream",
     "text": [
      "50\n"
     ]
    },
    {
     "data": {
      "text/plain": [
       "\"I actually don't drive over 65 mph, but since last week I noticed that the front lateral part of the SkySlider was lifting when I start reaching 40 mph, and it continues lifting even more while I increase the speed. When it do that, then it get very noisy because the noise is coming from that opening.\\n\\nWhen I go to the dealer to tell them about this concern (because when I bought it 2 months ago it didn't do that) they said that it was NORMAL!!!! :mad: ....... And I said that it is not normal because that problem started just a few days ago (I can't believe they didn't try to find a solution for the problem)\\n\\nI think I did everything I could. They told me that they can not do anything right now because the car is brand new and there are no specifications about that kind of problems.\\n\\nI would like to know if someone is experiencing this or experienced it already and got it fixed and how.\\n\\nThank you very much !!!!\\n\\n~Claudette\""
      ]
     },
     "execution_count": 7,
     "metadata": {},
     "output_type": "execute_result"
    }
   ],
   "source": [
    "comment_elements = driver.find_elements(By.XPATH, '//div[@class=\"Comment\"]/div[@class=\"Item-BodyWrap\"]/div[@class=\"Item-Body\"]/div[@class=\"Message userContent\"]')\n",
    "print(len(comment_elements))\n",
    "comment_elements[0].text"
   ]
  },
  {
   "cell_type": "code",
   "execution_count": 8,
   "metadata": {},
   "outputs": [
    {
     "name": "stdout",
     "output_type": "stream",
     "text": [
      "50\n"
     ]
    },
    {
     "data": {
      "text/plain": [
       "'July 2008'"
      ]
     },
     "execution_count": 8,
     "metadata": {},
     "output_type": "execute_result"
    }
   ],
   "source": [
    "time_elements = driver.find_elements(By.XPATH, '//div[@class=\"Comment\"]/div[@class=\"Item-Header CommentHeader\"]/div[@class=\"Meta CommentMeta CommentInfo\"]/span[@class=\"MItem DateCreated\"]/a[1]')\n",
    "print(len(time_elements))\n",
    "time_elements[0].text"
   ]
  },
  {
   "cell_type": "markdown",
   "metadata": {},
   "source": [
    "Оформляем данные в датафрейм"
   ]
  },
  {
   "cell_type": "code",
   "execution_count": 9,
   "metadata": {},
   "outputs": [
    {
     "data": {
      "text/html": [
       "<div>\n",
       "<style scoped>\n",
       "    .dataframe tbody tr th:only-of-type {\n",
       "        vertical-align: middle;\n",
       "    }\n",
       "\n",
       "    .dataframe tbody tr th {\n",
       "        vertical-align: top;\n",
       "    }\n",
       "\n",
       "    .dataframe thead th {\n",
       "        text-align: right;\n",
       "    }\n",
       "</style>\n",
       "<table border=\"1\" class=\"dataframe\">\n",
       "  <thead>\n",
       "    <tr style=\"text-align: right;\">\n",
       "      <th></th>\n",
       "      <th>Username</th>\n",
       "      <th>Comment</th>\n",
       "      <th>Time</th>\n",
       "    </tr>\n",
       "  </thead>\n",
       "  <tbody>\n",
       "    <tr>\n",
       "      <th>0</th>\n",
       "      <td>cmoa84</td>\n",
       "      <td>I actually don't drive over 65 mph, but since ...</td>\n",
       "      <td>July 2008</td>\n",
       "    </tr>\n",
       "    <tr>\n",
       "      <th>1</th>\n",
       "      <td>jeepboy08</td>\n",
       "      <td>Well, if sounds ANYTHING like how the old and ...</td>\n",
       "      <td>July 2008</td>\n",
       "    </tr>\n",
       "    <tr>\n",
       "      <th>2</th>\n",
       "      <td>cmoa84</td>\n",
       "      <td>Thank you for your solution advice ... but Iam...</td>\n",
       "      <td>July 2008</td>\n",
       "    </tr>\n",
       "    <tr>\n",
       "      <th>3</th>\n",
       "      <td>jeepboy08</td>\n",
       "      <td>Okay! When you are riding on the highway, and ...</td>\n",
       "      <td>July 2008</td>\n",
       "    </tr>\n",
       "    <tr>\n",
       "      <th>4</th>\n",
       "      <td>basler</td>\n",
       "      <td>I have been discussing this issue with Jeep. T...</td>\n",
       "      <td>September 2008</td>\n",
       "    </tr>\n",
       "    <tr>\n",
       "      <th>5</th>\n",
       "      <td>basler</td>\n",
       "      <td>I tried that with limited success. I do not be...</td>\n",
       "      <td>September 2008</td>\n",
       "    </tr>\n",
       "    <tr>\n",
       "      <th>6</th>\n",
       "      <td>gtangjr</td>\n",
       "      <td>We have been working very closely with our Jee...</td>\n",
       "      <td>September 2008</td>\n",
       "    </tr>\n",
       "    <tr>\n",
       "      <th>7</th>\n",
       "      <td>cmoa84</td>\n",
       "      <td>Thank you so much for your reply message. I re...</td>\n",
       "      <td>September 2008</td>\n",
       "    </tr>\n",
       "    <tr>\n",
       "      <th>8</th>\n",
       "      <td>cmoa84</td>\n",
       "      <td>Hello again ... do you that you will be able t...</td>\n",
       "      <td>September 2008</td>\n",
       "    </tr>\n",
       "    <tr>\n",
       "      <th>9</th>\n",
       "      <td>ashkaan</td>\n",
       "      <td>Ya, if you could post a link maybe to the TSB ...</td>\n",
       "      <td>September 2008</td>\n",
       "    </tr>\n",
       "    <tr>\n",
       "      <th>10</th>\n",
       "      <td>jimgreiner</td>\n",
       "      <td>Thanks for the info... after 2 body computer r...</td>\n",
       "      <td>September 2008</td>\n",
       "    </tr>\n",
       "    <tr>\n",
       "      <th>11</th>\n",
       "      <td>wwehrsten</td>\n",
       "      <td>Thanks for your information. I have recently p...</td>\n",
       "      <td>October 2008</td>\n",
       "    </tr>\n",
       "    <tr>\n",
       "      <th>12</th>\n",
       "      <td>gtangjr</td>\n",
       "      <td>Sorry it took so long to put this up. We're st...</td>\n",
       "      <td>October 2008</td>\n",
       "    </tr>\n",
       "    <tr>\n",
       "      <th>13</th>\n",
       "      <td>gtangjr</td>\n",
       "      <td></td>\n",
       "      <td>October 2008</td>\n",
       "    </tr>\n",
       "    <tr>\n",
       "      <th>14</th>\n",
       "      <td>gtangjr</td>\n",
       "      <td></td>\n",
       "      <td>October 2008</td>\n",
       "    </tr>\n",
       "    <tr>\n",
       "      <th>15</th>\n",
       "      <td>gtangjr</td>\n",
       "      <td></td>\n",
       "      <td>October 2008</td>\n",
       "    </tr>\n",
       "    <tr>\n",
       "      <th>16</th>\n",
       "      <td>gtangjr</td>\n",
       "      <td></td>\n",
       "      <td>October 2008</td>\n",
       "    </tr>\n",
       "    <tr>\n",
       "      <th>17</th>\n",
       "      <td>gtangjr</td>\n",
       "      <td>I know the TSB is posted several times, but I ...</td>\n",
       "      <td>October 2008</td>\n",
       "    </tr>\n",
       "    <tr>\n",
       "      <th>18</th>\n",
       "      <td>jimgreiner</td>\n",
       "      <td>Thanks for posting, but hate to disappoint you...</td>\n",
       "      <td>October 2008</td>\n",
       "    </tr>\n",
       "    <tr>\n",
       "      <th>19</th>\n",
       "      <td>gtangjr</td>\n",
       "      <td>Both the dealer and I are aware of the so-call...</td>\n",
       "      <td>October 2008</td>\n",
       "    </tr>\n",
       "    <tr>\n",
       "      <th>20</th>\n",
       "      <td>facciabella3</td>\n",
       "      <td>READ THIS !!!!!\\nWell... i wish wind noise was...</td>\n",
       "      <td>October 2008</td>\n",
       "    </tr>\n",
       "    <tr>\n",
       "      <th>21</th>\n",
       "      <td>tidester</td>\n",
       "      <td>email me at...\\n\\nIf we keep the conversation ...</td>\n",
       "      <td>October 2008</td>\n",
       "    </tr>\n",
       "    <tr>\n",
       "      <th>22</th>\n",
       "      <td>gtangjr</td>\n",
       "      <td>Rachel,\\n\\nYou're right about the metal bar an...</td>\n",
       "      <td>October 2008</td>\n",
       "    </tr>\n",
       "    <tr>\n",
       "      <th>23</th>\n",
       "      <td>gtangjr</td>\n",
       "      <td>I have great news. I am happy to say that our ...</td>\n",
       "      <td>October 2008</td>\n",
       "    </tr>\n",
       "    <tr>\n",
       "      <th>24</th>\n",
       "      <td>jimgreiner</td>\n",
       "      <td>Thanks for posting... taking this info to my d...</td>\n",
       "      <td>November 2008</td>\n",
       "    </tr>\n",
       "    <tr>\n",
       "      <th>25</th>\n",
       "      <td>jimgreiner</td>\n",
       "      <td>Contacted my dealer and have the repair parts ...</td>\n",
       "      <td>November 2008</td>\n",
       "    </tr>\n",
       "    <tr>\n",
       "      <th>26</th>\n",
       "      <td>ahck123</td>\n",
       "      <td>I just bought a new 2008 liberty on 1/1/09 and...</td>\n",
       "      <td>January 2009</td>\n",
       "    </tr>\n",
       "    <tr>\n",
       "      <th>27</th>\n",
       "      <td>ahck123</td>\n",
       "      <td>i am completely frustrated with my slider roof...</td>\n",
       "      <td>January 2009</td>\n",
       "    </tr>\n",
       "    <tr>\n",
       "      <th>28</th>\n",
       "      <td>gtangjr</td>\n",
       "      <td>It is a shame that your dealer (as well as the...</td>\n",
       "      <td>January 2009</td>\n",
       "    </tr>\n",
       "    <tr>\n",
       "      <th>29</th>\n",
       "      <td>cmoa84</td>\n",
       "      <td>Ive beed dealing with the same problem since l...</td>\n",
       "      <td>January 2009</td>\n",
       "    </tr>\n",
       "    <tr>\n",
       "      <th>30</th>\n",
       "      <td>gtangjr</td>\n",
       "      <td>Your issue is consistent with the loosening of...</td>\n",
       "      <td>January 2009</td>\n",
       "    </tr>\n",
       "    <tr>\n",
       "      <th>31</th>\n",
       "      <td>lasersam</td>\n",
       "      <td>Just purchased an 09 with SkySlider. No noise ...</td>\n",
       "      <td>January 2009</td>\n",
       "    </tr>\n",
       "    <tr>\n",
       "      <th>32</th>\n",
       "      <td>gtangjr</td>\n",
       "      <td>I know for certain (per my dealer) the new par...</td>\n",
       "      <td>January 2009</td>\n",
       "    </tr>\n",
       "    <tr>\n",
       "      <th>33</th>\n",
       "      <td>pdcingso</td>\n",
       "      <td>I am haveing the same problem, I have an appoi...</td>\n",
       "      <td>February 2009</td>\n",
       "    </tr>\n",
       "    <tr>\n",
       "      <th>34</th>\n",
       "      <td>a35242</td>\n",
       "      <td>I am having the same issues and have to bring ...</td>\n",
       "      <td>February 2009</td>\n",
       "    </tr>\n",
       "    <tr>\n",
       "      <th>35</th>\n",
       "      <td>210win</td>\n",
       "      <td>I had the same problem,and fixed it by dealer ...</td>\n",
       "      <td>February 2009</td>\n",
       "    </tr>\n",
       "    <tr>\n",
       "      <th>36</th>\n",
       "      <td>a35242</td>\n",
       "      <td>Thanks for the update. This should help out a ...</td>\n",
       "      <td>February 2009</td>\n",
       "    </tr>\n",
       "    <tr>\n",
       "      <th>37</th>\n",
       "      <td>a35242</td>\n",
       "      <td>I took the information gathered from here and ...</td>\n",
       "      <td>February 2009</td>\n",
       "    </tr>\n",
       "    <tr>\n",
       "      <th>38</th>\n",
       "      <td>jimgreiner</td>\n",
       "      <td>Hate to disappoint all of you following this t...</td>\n",
       "      <td>February 2009</td>\n",
       "    </tr>\n",
       "    <tr>\n",
       "      <th>39</th>\n",
       "      <td>srotag</td>\n",
       "      <td>I also purchased an \"09\" Liberty with a \"skysl...</td>\n",
       "      <td>February 2009</td>\n",
       "    </tr>\n",
       "    <tr>\n",
       "      <th>40</th>\n",
       "      <td>a35242</td>\n",
       "      <td>So, are you able to go back and get the header...</td>\n",
       "      <td>February 2009</td>\n",
       "    </tr>\n",
       "    <tr>\n",
       "      <th>41</th>\n",
       "      <td>lasersam</td>\n",
       "      <td>No trouble on my 09 Liberty yet but this threa...</td>\n",
       "      <td>February 2009</td>\n",
       "    </tr>\n",
       "    <tr>\n",
       "      <th>42</th>\n",
       "      <td>a35242</td>\n",
       "      <td>I just got my Jeep Liberty back after they ins...</td>\n",
       "      <td>March 2009</td>\n",
       "    </tr>\n",
       "    <tr>\n",
       "      <th>43</th>\n",
       "      <td>magnetguy</td>\n",
       "      <td>I have been dealing with the noise issue for t...</td>\n",
       "      <td>April 2009</td>\n",
       "    </tr>\n",
       "    <tr>\n",
       "      <th>44</th>\n",
       "      <td>a35242</td>\n",
       "      <td>Did they replace the header kit?</td>\n",
       "      <td>May 2009</td>\n",
       "    </tr>\n",
       "    <tr>\n",
       "      <th>45</th>\n",
       "      <td>magnetguy</td>\n",
       "      <td>To the best of my knowledge they only did what...</td>\n",
       "      <td>May 2009</td>\n",
       "    </tr>\n",
       "    <tr>\n",
       "      <th>46</th>\n",
       "      <td>a35242</td>\n",
       "      <td>That is crazy. The header kit was only like 15...</td>\n",
       "      <td>May 2009</td>\n",
       "    </tr>\n",
       "    <tr>\n",
       "      <th>47</th>\n",
       "      <td>magnetguy</td>\n",
       "      <td>Is the header kit a Chrysler part? If so what ...</td>\n",
       "      <td>May 2009</td>\n",
       "    </tr>\n",
       "    <tr>\n",
       "      <th>48</th>\n",
       "      <td>a35242</td>\n",
       "      <td>What is your email address? i will scan the se...</td>\n",
       "      <td>May 2009</td>\n",
       "    </tr>\n",
       "    <tr>\n",
       "      <th>49</th>\n",
       "      <td>magnetguy</td>\n",
       "      <td>scanconsultants@gmail.com\\n\\nThanks for your h...</td>\n",
       "      <td>May 2009</td>\n",
       "    </tr>\n",
       "  </tbody>\n",
       "</table>\n",
       "</div>"
      ],
      "text/plain": [
       "        Username                                            Comment  \\\n",
       "0         cmoa84  I actually don't drive over 65 mph, but since ...   \n",
       "1      jeepboy08  Well, if sounds ANYTHING like how the old and ...   \n",
       "2         cmoa84  Thank you for your solution advice ... but Iam...   \n",
       "3      jeepboy08  Okay! When you are riding on the highway, and ...   \n",
       "4         basler  I have been discussing this issue with Jeep. T...   \n",
       "5         basler  I tried that with limited success. I do not be...   \n",
       "6        gtangjr  We have been working very closely with our Jee...   \n",
       "7         cmoa84  Thank you so much for your reply message. I re...   \n",
       "8         cmoa84  Hello again ... do you that you will be able t...   \n",
       "9        ashkaan  Ya, if you could post a link maybe to the TSB ...   \n",
       "10    jimgreiner  Thanks for the info... after 2 body computer r...   \n",
       "11     wwehrsten  Thanks for your information. I have recently p...   \n",
       "12       gtangjr  Sorry it took so long to put this up. We're st...   \n",
       "13       gtangjr                                                      \n",
       "14       gtangjr                                                      \n",
       "15       gtangjr                                                      \n",
       "16       gtangjr                                                      \n",
       "17       gtangjr  I know the TSB is posted several times, but I ...   \n",
       "18    jimgreiner  Thanks for posting, but hate to disappoint you...   \n",
       "19       gtangjr  Both the dealer and I are aware of the so-call...   \n",
       "20  facciabella3  READ THIS !!!!!\\nWell... i wish wind noise was...   \n",
       "21      tidester  email me at...\\n\\nIf we keep the conversation ...   \n",
       "22       gtangjr  Rachel,\\n\\nYou're right about the metal bar an...   \n",
       "23       gtangjr  I have great news. I am happy to say that our ...   \n",
       "24    jimgreiner  Thanks for posting... taking this info to my d...   \n",
       "25    jimgreiner  Contacted my dealer and have the repair parts ...   \n",
       "26       ahck123  I just bought a new 2008 liberty on 1/1/09 and...   \n",
       "27       ahck123  i am completely frustrated with my slider roof...   \n",
       "28       gtangjr  It is a shame that your dealer (as well as the...   \n",
       "29        cmoa84  Ive beed dealing with the same problem since l...   \n",
       "30       gtangjr  Your issue is consistent with the loosening of...   \n",
       "31      lasersam  Just purchased an 09 with SkySlider. No noise ...   \n",
       "32       gtangjr  I know for certain (per my dealer) the new par...   \n",
       "33      pdcingso  I am haveing the same problem, I have an appoi...   \n",
       "34        a35242  I am having the same issues and have to bring ...   \n",
       "35        210win  I had the same problem,and fixed it by dealer ...   \n",
       "36        a35242  Thanks for the update. This should help out a ...   \n",
       "37        a35242  I took the information gathered from here and ...   \n",
       "38    jimgreiner  Hate to disappoint all of you following this t...   \n",
       "39        srotag  I also purchased an \"09\" Liberty with a \"skysl...   \n",
       "40        a35242  So, are you able to go back and get the header...   \n",
       "41      lasersam  No trouble on my 09 Liberty yet but this threa...   \n",
       "42        a35242  I just got my Jeep Liberty back after they ins...   \n",
       "43     magnetguy  I have been dealing with the noise issue for t...   \n",
       "44        a35242                   Did they replace the header kit?   \n",
       "45     magnetguy  To the best of my knowledge they only did what...   \n",
       "46        a35242  That is crazy. The header kit was only like 15...   \n",
       "47     magnetguy  Is the header kit a Chrysler part? If so what ...   \n",
       "48        a35242  What is your email address? i will scan the se...   \n",
       "49     magnetguy  scanconsultants@gmail.com\\n\\nThanks for your h...   \n",
       "\n",
       "              Time  \n",
       "0        July 2008  \n",
       "1        July 2008  \n",
       "2        July 2008  \n",
       "3        July 2008  \n",
       "4   September 2008  \n",
       "5   September 2008  \n",
       "6   September 2008  \n",
       "7   September 2008  \n",
       "8   September 2008  \n",
       "9   September 2008  \n",
       "10  September 2008  \n",
       "11    October 2008  \n",
       "12    October 2008  \n",
       "13    October 2008  \n",
       "14    October 2008  \n",
       "15    October 2008  \n",
       "16    October 2008  \n",
       "17    October 2008  \n",
       "18    October 2008  \n",
       "19    October 2008  \n",
       "20    October 2008  \n",
       "21    October 2008  \n",
       "22    October 2008  \n",
       "23    October 2008  \n",
       "24   November 2008  \n",
       "25   November 2008  \n",
       "26    January 2009  \n",
       "27    January 2009  \n",
       "28    January 2009  \n",
       "29    January 2009  \n",
       "30    January 2009  \n",
       "31    January 2009  \n",
       "32    January 2009  \n",
       "33   February 2009  \n",
       "34   February 2009  \n",
       "35   February 2009  \n",
       "36   February 2009  \n",
       "37   February 2009  \n",
       "38   February 2009  \n",
       "39   February 2009  \n",
       "40   February 2009  \n",
       "41   February 2009  \n",
       "42      March 2009  \n",
       "43      April 2009  \n",
       "44        May 2009  \n",
       "45        May 2009  \n",
       "46        May 2009  \n",
       "47        May 2009  \n",
       "48        May 2009  \n",
       "49        May 2009  "
      ]
     },
     "execution_count": 9,
     "metadata": {},
     "output_type": "execute_result"
    }
   ],
   "source": [
    "for i in range(len(username_elements)):\n",
    "    com = {'Username': username_elements[i].text, \n",
    "           'Comment': comment_elements[i].text,\n",
    "           'Time': time_elements[i].text}\n",
    "    df = df.append(com, ignore_index=True)\n",
    "    \n",
    "df"
   ]
  },
  {
   "cell_type": "markdown",
   "metadata": {},
   "source": [
    "Оформляем в функцию"
   ]
  },
  {
   "cell_type": "code",
   "execution_count": 10,
   "metadata": {},
   "outputs": [],
   "source": [
    "def scrap_page():\n",
    "    global df\n",
    "    username_elements = driver.find_elements(By.XPATH, '//div[@class=\"Comment\"]/div[@class=\"Item-Header CommentHeader\"]/div[@class=\"AuthorWrap\"]/span[@class=\"Author\"]/a[2]')\n",
    "    comment_elements = driver.find_elements(By.XPATH, '//div[@class=\"Comment\"]/div[@class=\"Item-BodyWrap\"]/div[@class=\"Item-Body\"]/div[@class=\"Message userContent\"]')\n",
    "    time_elements = driver.find_elements(By.XPATH, '//div[@class=\"Comment\"]/div[@class=\"Item-Header CommentHeader\"]/div[@class=\"Meta CommentMeta CommentInfo\"]/span[@class=\"MItem DateCreated\"]/a[1]')\n",
    "    for i in range(len(username_elements)):\n",
    "        com = {'Username': username_elements[i].text, \n",
    "               'Comment': comment_elements[i].text,\n",
    "               'Time': time_elements[i].text}\n",
    "        df = df.append(com, ignore_index=True)"
   ]
  },
  {
   "cell_type": "markdown",
   "metadata": {},
   "source": [
    "Перемещаемся по страницам, нажимая на кнопку \"Next\""
   ]
  },
  {
   "cell_type": "code",
   "execution_count": 11,
   "metadata": {},
   "outputs": [
    {
     "name": "stdout",
     "output_type": "stream",
     "text": [
      "That's all\n"
     ]
    }
   ],
   "source": [
    "while True:\n",
    "    try:\n",
    "        navigation_element = driver.find_elements(By.XPATH, '//div[@class=\"P PagerWrap\"]/div[@id=\"PagerAfter\"]/a[@class=\"Next\"]')\n",
    "        navigation_element[0].click()\n",
    "        scrap_page()\n",
    "    except:\n",
    "        print(\"That's all\")\n",
    "        break"
   ]
  },
  {
   "cell_type": "code",
   "execution_count": 12,
   "metadata": {},
   "outputs": [
    {
     "data": {
      "text/html": [
       "<div>\n",
       "<style scoped>\n",
       "    .dataframe tbody tr th:only-of-type {\n",
       "        vertical-align: middle;\n",
       "    }\n",
       "\n",
       "    .dataframe tbody tr th {\n",
       "        vertical-align: top;\n",
       "    }\n",
       "\n",
       "    .dataframe thead th {\n",
       "        text-align: right;\n",
       "    }\n",
       "</style>\n",
       "<table border=\"1\" class=\"dataframe\">\n",
       "  <thead>\n",
       "    <tr style=\"text-align: right;\">\n",
       "      <th></th>\n",
       "      <th>Username</th>\n",
       "      <th>Comment</th>\n",
       "      <th>Time</th>\n",
       "    </tr>\n",
       "  </thead>\n",
       "  <tbody>\n",
       "    <tr>\n",
       "      <th>0</th>\n",
       "      <td>cmoa84</td>\n",
       "      <td>I actually don't drive over 65 mph, but since ...</td>\n",
       "      <td>July 2008</td>\n",
       "    </tr>\n",
       "    <tr>\n",
       "      <th>1</th>\n",
       "      <td>jeepboy08</td>\n",
       "      <td>Well, if sounds ANYTHING like how the old and ...</td>\n",
       "      <td>July 2008</td>\n",
       "    </tr>\n",
       "    <tr>\n",
       "      <th>2</th>\n",
       "      <td>cmoa84</td>\n",
       "      <td>Thank you for your solution advice ... but Iam...</td>\n",
       "      <td>July 2008</td>\n",
       "    </tr>\n",
       "    <tr>\n",
       "      <th>3</th>\n",
       "      <td>jeepboy08</td>\n",
       "      <td>Okay! When you are riding on the highway, and ...</td>\n",
       "      <td>July 2008</td>\n",
       "    </tr>\n",
       "    <tr>\n",
       "      <th>4</th>\n",
       "      <td>basler</td>\n",
       "      <td>I have been discussing this issue with Jeep. T...</td>\n",
       "      <td>September 2008</td>\n",
       "    </tr>\n",
       "    <tr>\n",
       "      <th>...</th>\n",
       "      <td>...</td>\n",
       "      <td>...</td>\n",
       "      <td>...</td>\n",
       "    </tr>\n",
       "    <tr>\n",
       "      <th>198</th>\n",
       "      <td>tlf1234</td>\n",
       "      <td>tlf1234 said:\\nI was called my Jeep Dealership...</td>\n",
       "      <td>May 2016</td>\n",
       "    </tr>\n",
       "    <tr>\n",
       "      <th>199</th>\n",
       "      <td>tlf1234</td>\n",
       "      <td>Labor &amp; Repairs was nearly 4k. Jeep sent me ch...</td>\n",
       "      <td>May 2016</td>\n",
       "    </tr>\n",
       "    <tr>\n",
       "      <th>200</th>\n",
       "      <td>sfc2113</td>\n",
       "      <td>We also have a skyslider issue on my 2k8, the ...</td>\n",
       "      <td>May 2016</td>\n",
       "    </tr>\n",
       "    <tr>\n",
       "      <th>201</th>\n",
       "      <td>tlf1234</td>\n",
       "      <td>If I recall, at least a week to fix. That is w...</td>\n",
       "      <td>June 2017</td>\n",
       "    </tr>\n",
       "    <tr>\n",
       "      <th>202</th>\n",
       "      <td>Jodybabs6156</td>\n",
       "      <td>Is there any law suits for the sky slider roof...</td>\n",
       "      <td>March 2019</td>\n",
       "    </tr>\n",
       "  </tbody>\n",
       "</table>\n",
       "<p>203 rows × 3 columns</p>\n",
       "</div>"
      ],
      "text/plain": [
       "         Username                                            Comment  \\\n",
       "0          cmoa84  I actually don't drive over 65 mph, but since ...   \n",
       "1       jeepboy08  Well, if sounds ANYTHING like how the old and ...   \n",
       "2          cmoa84  Thank you for your solution advice ... but Iam...   \n",
       "3       jeepboy08  Okay! When you are riding on the highway, and ...   \n",
       "4          basler  I have been discussing this issue with Jeep. T...   \n",
       "..            ...                                                ...   \n",
       "198       tlf1234  tlf1234 said:\\nI was called my Jeep Dealership...   \n",
       "199       tlf1234  Labor & Repairs was nearly 4k. Jeep sent me ch...   \n",
       "200       sfc2113  We also have a skyslider issue on my 2k8, the ...   \n",
       "201       tlf1234  If I recall, at least a week to fix. That is w...   \n",
       "202  Jodybabs6156  Is there any law suits for the sky slider roof...   \n",
       "\n",
       "               Time  \n",
       "0         July 2008  \n",
       "1         July 2008  \n",
       "2         July 2008  \n",
       "3         July 2008  \n",
       "4    September 2008  \n",
       "..              ...  \n",
       "198        May 2016  \n",
       "199        May 2016  \n",
       "200        May 2016  \n",
       "201       June 2017  \n",
       "202      March 2019  \n",
       "\n",
       "[203 rows x 3 columns]"
      ]
     },
     "execution_count": 12,
     "metadata": {},
     "output_type": "execute_result"
    }
   ],
   "source": [
    "df"
   ]
  },
  {
   "cell_type": "markdown",
   "metadata": {},
   "source": [
    "Задания: <br>\n",
    "<ol> <li> Запустить этот туториал и дополнить его получением времени, когда был оставлен  комментарий (можно точную дату, можно как на сайте месяц и год)\n",
    "<li> Выбрать любой сайт и извлечь необходимую информацию при помощи краулера на selenium (мин 2 поля и 2 страницы).\n",
    "<li> ( * ) Ознакомиться со scrapy и сделать краулер при помощи него (можно для того же сайта). https://docs.scrapy.org/en/latest/intro/tutorial.html "
   ]
  }
 ],
 "metadata": {
  "kernelspec": {
   "display_name": "Python 3",
   "language": "python",
   "name": "python3"
  },
  "language_info": {
   "codemirror_mode": {
    "name": "ipython",
    "version": 3
   },
   "file_extension": ".py",
   "mimetype": "text/x-python",
   "name": "python",
   "nbconvert_exporter": "python",
   "pygments_lexer": "ipython3",
   "version": "3.9.0"
  },
  "pycharm": {
   "stem_cell": {
    "cell_type": "raw",
    "metadata": {
     "collapsed": false
    },
    "source": []
   }
  }
 },
 "nbformat": 4,
 "nbformat_minor": 4
}
